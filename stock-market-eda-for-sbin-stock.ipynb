{
 "cells": [
  {
   "cell_type": "markdown",
   "metadata": {},
   "source": [
    "<h1><center> EDA of State Bank of India(SBIN) Stock in BSE(Bombay Stock Exchange)</h1>"
   ]
  },
  {
   "cell_type": "code",
   "execution_count": null,
   "metadata": {
    "execution": {
     "iopub.execute_input": "2021-08-25T06:12:17.189901Z",
     "iopub.status.busy": "2021-08-25T06:12:17.18947Z",
     "iopub.status.idle": "2021-08-25T06:12:18.233992Z",
     "shell.execute_reply": "2021-08-25T06:12:18.232828Z",
     "shell.execute_reply.started": "2021-08-25T06:12:17.189805Z"
    }
   },
   "outputs": [],
   "source": [
    "import numpy as np\n",
    "import pandas as pd\n",
    "import matplotlib.pyplot as plt\n",
    "import seaborn as sns\n",
    "%matplotlib inline\n",
    "import warnings\n",
    "warnings.filterwarnings(\"ignore\")"
   ]
  },
  {
   "cell_type": "markdown",
   "metadata": {},
   "source": [
    "## 1. Reading Data"
   ]
  },
  {
   "cell_type": "markdown",
   "metadata": {},
   "source": [
    "Data for SBIN is extracted from https://www.bseindia.com/markets/equity/EQReports/StockPrcHistori.aspx?flag=0 For period Jan,2011 to Feb,2020"
   ]
  },
  {
   "cell_type": "code",
   "execution_count": null,
   "metadata": {
    "execution": {
     "iopub.execute_input": "2021-08-25T06:14:37.964453Z",
     "iopub.status.busy": "2021-08-25T06:14:37.963776Z",
     "iopub.status.idle": "2021-08-25T06:14:38.229519Z",
     "shell.execute_reply": "2021-08-25T06:14:38.228531Z",
     "shell.execute_reply.started": "2021-08-25T06:14:37.964415Z"
    }
   },
   "outputs": [],
   "source": [
    "data = pd.read_csv('../input/sbin-stock-data/sbin_jan11tofeb20.csv', index_col='Date', parse_dates=['Date'])\n",
    "data.head()"
   ]
  },
  {
   "cell_type": "code",
   "execution_count": null,
   "metadata": {
    "execution": {
     "iopub.execute_input": "2021-08-25T06:14:42.87991Z",
     "iopub.status.busy": "2021-08-25T06:14:42.877074Z",
     "iopub.status.idle": "2021-08-25T06:14:42.891465Z",
     "shell.execute_reply": "2021-08-25T06:14:42.890225Z",
     "shell.execute_reply.started": "2021-08-25T06:14:42.879849Z"
    }
   },
   "outputs": [],
   "source": [
    "data = data.sort_index()"
   ]
  },
  {
   "cell_type": "code",
   "execution_count": null,
   "metadata": {
    "execution": {
     "iopub.execute_input": "2021-08-25T06:14:44.018818Z",
     "iopub.status.busy": "2021-08-25T06:14:44.018302Z",
     "iopub.status.idle": "2021-08-25T06:14:44.039837Z",
     "shell.execute_reply": "2021-08-25T06:14:44.039132Z",
     "shell.execute_reply.started": "2021-08-25T06:14:44.018787Z"
    }
   },
   "outputs": [],
   "source": [
    "data.head()"
   ]
  },
  {
   "cell_type": "code",
   "execution_count": null,
   "metadata": {
    "execution": {
     "iopub.execute_input": "2021-08-25T06:14:46.806859Z",
     "iopub.status.busy": "2021-08-25T06:14:46.806341Z",
     "iopub.status.idle": "2021-08-25T06:14:46.814001Z",
     "shell.execute_reply": "2021-08-25T06:14:46.813274Z",
     "shell.execute_reply.started": "2021-08-25T06:14:46.806826Z"
    }
   },
   "outputs": [],
   "source": [
    "data.dtypes"
   ]
  },
  {
   "cell_type": "code",
   "execution_count": null,
   "metadata": {
    "execution": {
     "iopub.execute_input": "2021-08-25T06:14:49.729441Z",
     "iopub.status.busy": "2021-08-25T06:14:49.728814Z",
     "iopub.status.idle": "2021-08-25T06:14:49.737956Z",
     "shell.execute_reply": "2021-08-25T06:14:49.737074Z",
     "shell.execute_reply.started": "2021-08-25T06:14:49.729395Z"
    }
   },
   "outputs": [],
   "source": [
    "data = data.rename(columns={\"No.of Shares\":\"Volume\",\"No. of Trades\":\"Trade Volume\"})\n",
    "data.columns"
   ]
  },
  {
   "cell_type": "markdown",
   "metadata": {},
   "source": [
    "Subsetting the data for useful variables"
   ]
  },
  {
   "cell_type": "code",
   "execution_count": null,
   "metadata": {
    "execution": {
     "iopub.execute_input": "2021-08-25T06:14:54.264854Z",
     "iopub.status.busy": "2021-08-25T06:14:54.264237Z",
     "iopub.status.idle": "2021-08-25T06:14:54.271885Z",
     "shell.execute_reply": "2021-08-25T06:14:54.270654Z",
     "shell.execute_reply.started": "2021-08-25T06:14:54.264808Z"
    }
   },
   "outputs": [],
   "source": [
    "data = data[['Open Price', 'High Price', 'Low Price', 'Close Price', 'Volume',\n",
    "       'Trade Volume']]"
   ]
  },
  {
   "cell_type": "code",
   "execution_count": null,
   "metadata": {
    "execution": {
     "iopub.execute_input": "2021-08-25T06:14:57.730236Z",
     "iopub.status.busy": "2021-08-25T06:14:57.72981Z",
     "iopub.status.idle": "2021-08-25T06:14:59.061794Z",
     "shell.execute_reply": "2021-08-25T06:14:59.060896Z",
     "shell.execute_reply.started": "2021-08-25T06:14:57.730202Z"
    }
   },
   "outputs": [],
   "source": [
    "data.plot(subplots=True, figsize=(10,12))\n",
    "plt.show()"
   ]
  },
  {
   "cell_type": "markdown",
   "metadata": {},
   "source": [
    "The drastic change in price of the stock from BSE website is due to the split event on 20 Nov 2014(verified from https://moneycontrol.com), in which the face value of SBIN changes from 10 to 1 so BSE(data source) has accouted for that event and scaled the data. we willl scale the data by dividing by 10 to get the actual prices for our analysis."
   ]
  },
  {
   "cell_type": "code",
   "execution_count": null,
   "metadata": {
    "execution": {
     "iopub.execute_input": "2021-08-25T06:15:04.351435Z",
     "iopub.status.busy": "2021-08-25T06:15:04.35079Z",
     "iopub.status.idle": "2021-08-25T06:15:04.373861Z",
     "shell.execute_reply": "2021-08-25T06:15:04.373094Z",
     "shell.execute_reply.started": "2021-08-25T06:15:04.351399Z"
    }
   },
   "outputs": [],
   "source": [
    "data[\"2014-11-19\":\"2014-11-20\"].tail()"
   ]
  },
  {
   "cell_type": "code",
   "execution_count": null,
   "metadata": {
    "execution": {
     "iopub.execute_input": "2021-08-25T06:15:07.419492Z",
     "iopub.status.busy": "2021-08-25T06:15:07.419074Z",
     "iopub.status.idle": "2021-08-25T06:15:08.876365Z",
     "shell.execute_reply": "2021-08-25T06:15:08.872557Z",
     "shell.execute_reply.started": "2021-08-25T06:15:07.419459Z"
    }
   },
   "outputs": [],
   "source": [
    "data['Open Price'][:\"2014-11-19\"] = data['Open Price'][:\"2014-11-19\"]/10\n",
    "data['High Price'][:\"2014-11-19\"] = data['High Price'][:\"2014-11-19\"]/10\n",
    "data['Low Price'][:\"2014-11-19\"] = data['Low Price'][:\"2014-11-19\"]/10\n",
    "data['Close Price'][:\"2014-11-19\"] = data['Close Price'][:\"2014-11-19\"]/10\n",
    "data['Volume'][:\"2014-11-19\"] = data['Volume'][:\"2014-11-19\"]*10\n",
    "data.plot(subplots=True, figsize=(10,12))\n",
    "plt.show()"
   ]
  },
  {
   "cell_type": "markdown",
   "metadata": {},
   "source": [
    " Extracting 2 years data for our analysis"
   ]
  },
  {
   "cell_type": "code",
   "execution_count": null,
   "metadata": {
    "execution": {
     "iopub.execute_input": "2021-08-25T06:16:12.586754Z",
     "iopub.status.busy": "2021-08-25T06:16:12.586307Z",
     "iopub.status.idle": "2021-08-25T06:16:12.594459Z",
     "shell.execute_reply": "2021-08-25T06:16:12.593062Z",
     "shell.execute_reply.started": "2021-08-25T06:16:12.586718Z"
    }
   },
   "outputs": [],
   "source": [
    "data_sbin = data['2011-01-03':'2012-12-31']"
   ]
  },
  {
   "cell_type": "markdown",
   "metadata": {},
   "source": [
    "We shall perform analysis on both 10 years and 2 years data of SBIN to understand the data and how parameters change with larger data"
   ]
  },
  {
   "cell_type": "markdown",
   "metadata": {},
   "source": [
    "## 2. Moving Average Plots"
   ]
  },
  {
   "cell_type": "markdown",
   "metadata": {},
   "source": [
    "### 2.1 Simple Moving Average"
   ]
  },
  {
   "cell_type": "markdown",
   "metadata": {},
   "source": [
    "Moving Averages are used for smoothing the time series data. It helps analyse trend of the data"
   ]
  },
  {
   "cell_type": "markdown",
   "metadata": {},
   "source": [
    "Simple Moving Average of Close Price for 2 years data"
   ]
  },
  {
   "cell_type": "code",
   "execution_count": null,
   "metadata": {
    "execution": {
     "iopub.execute_input": "2021-08-25T06:18:27.003562Z",
     "iopub.status.busy": "2021-08-25T06:18:27.003109Z",
     "iopub.status.idle": "2021-08-25T06:18:27.351252Z",
     "shell.execute_reply": "2021-08-25T06:18:27.350198Z",
     "shell.execute_reply.started": "2021-08-25T06:18:27.003529Z"
    }
   },
   "outputs": [],
   "source": [
    "data_sbin['Close 10Day MA'] = data_sbin['Close Price'].rolling(window=10).mean()\n",
    "data_sbin['Close 50Day MA'] = data_sbin['Close Price'].rolling(window=50).mean()\n",
    "data_sbin['Close 100Day MA'] = data_sbin['Close Price'].rolling(window=100).mean()\n",
    "data_sbin['Close 200Day MA'] = data_sbin['Close Price'].rolling(window=200).mean()\n",
    "\n",
    "plt.figure(figsize=(22,8))\n",
    "plt.plot(data_sbin['Close Price'], label = 'Close')\n",
    "plt.plot(data_sbin['Close 10Day MA'], label = '10SMA')\n",
    "plt.plot(data_sbin['Close 50Day MA'], label = '50SMA')\n",
    "plt.plot(data_sbin['Close 100Day MA'], label = '100SMA')\n",
    "plt.plot(data_sbin['Close 200Day MA'], label = '200SMA')\n",
    "plt.legend(loc='best')\n",
    "plt.title(\"Simple Moving Average of Close Price for 2 years data\")\n",
    "plt.ylabel(\"Close Price\")\n",
    "plt.xlabel(\"Date\")\n",
    "plt.show()"
   ]
  },
  {
   "cell_type": "markdown",
   "metadata": {},
   "source": [
    "Simple Moving Average of Close Price for 10 years data"
   ]
  },
  {
   "cell_type": "code",
   "execution_count": null,
   "metadata": {
    "execution": {
     "iopub.execute_input": "2021-08-25T06:18:31.247161Z",
     "iopub.status.busy": "2021-08-25T06:18:31.246765Z",
     "iopub.status.idle": "2021-08-25T06:18:31.56694Z",
     "shell.execute_reply": "2021-08-25T06:18:31.565792Z",
     "shell.execute_reply.started": "2021-08-25T06:18:31.24713Z"
    }
   },
   "outputs": [],
   "source": [
    "data['Close 10Day MA'] = data['Close Price'].rolling(window=10).mean()\n",
    "data['Close 50Day MA'] = data['Close Price'].rolling(window=50).mean()\n",
    "data['Close 100Day MA'] = data['Close Price'].rolling(window=100).mean()\n",
    "data['Close 200Day MA'] = data['Close Price'].rolling(window=200).mean()\n",
    "\n",
    "plt.figure(figsize=(22,8))\n",
    "plt.plot(data['Close Price'], label = 'Close')\n",
    "plt.plot(data['Close 10Day MA'], label = '10DMA')\n",
    "plt.plot(data['Close 50Day MA'], label = '50DMA')\n",
    "plt.plot(data['Close 100Day MA'], label = '100DMA')\n",
    "plt.plot(data['Close 200Day MA'], label = '200DMA')\n",
    "plt.legend(loc='best')\n",
    "plt.title(\"Simple Moving Average of Close Price for 10 years data\")\n",
    "plt.ylabel(\"Close Price\")\n",
    "plt.xlabel(\"Date\")\n",
    "plt.show()"
   ]
  },
  {
   "cell_type": "markdown",
   "metadata": {},
   "source": [
    "In both the graphs, it is observer 10 Days Moving Average(DMA) fits best on the data detailing small variations, larger moving averages 100 and 200 gives better view of long term trend whereas smaller moving averages 10 and 50 give granular details for short term data."
   ]
  },
  {
   "cell_type": "markdown",
   "metadata": {},
   "source": [
    "### 2.2 Exponential Moving Average"
   ]
  },
  {
   "cell_type": "markdown",
   "metadata": {},
   "source": [
    "Exponential moving averages is aother way to understand trend of the stock price over time, EMA is weighted moving averaging technique that gives more weight to the recent data."
   ]
  },
  {
   "cell_type": "code",
   "execution_count": null,
   "metadata": {
    "execution": {
     "iopub.execute_input": "2021-08-25T06:18:59.267721Z",
     "iopub.status.busy": "2021-08-25T06:18:59.267275Z",
     "iopub.status.idle": "2021-08-25T06:18:59.577398Z",
     "shell.execute_reply": "2021-08-25T06:18:59.576524Z",
     "shell.execute_reply.started": "2021-08-25T06:18:59.267686Z"
    }
   },
   "outputs": [],
   "source": [
    "data_sbin['Close 20-trday EMA'] = data_sbin['Close Price'].ewm(span=20,adjust=False).mean()\n",
    "data_sbin['Close 50-trday EMA'] = data_sbin['Close Price'].ewm(span=50,adjust=False).mean()\n",
    "plt.figure(figsize=(22,8))\n",
    "plt.plot(data_sbin['Close Price'], label = 'Close')\n",
    "plt.plot(data_sbin['Close 20-trday EMA'], label = '20-EMA')\n",
    "plt.plot(data_sbin['Close 50-trday EMA'], label = '50-EMA')\n",
    "plt.legend(loc='best')\n",
    "plt.title(\"Close Price\")\n",
    "plt.ylabel(\"Close Price\")\n",
    "plt.xlabel(\"Date\")\n",
    "plt.show()"
   ]
  },
  {
   "cell_type": "markdown",
   "metadata": {},
   "source": [
    "Like simple moving average,smaller period, 20 day EMA fits the data better than 50-EMA.\n",
    "\n",
    "Combination of moving averages can be used to underastand trend of the data more accurately."
   ]
  },
  {
   "cell_type": "markdown",
   "metadata": {},
   "source": [
    "## 3. Lagged Time Series Plot"
   ]
  },
  {
   "cell_type": "markdown",
   "metadata": {},
   "source": [
    "For stock prediction, past data is used to predict the future data of the stock, the time series is lagged by a period which can be taken as future values of the prices."
   ]
  },
  {
   "cell_type": "code",
   "execution_count": null,
   "metadata": {
    "execution": {
     "iopub.execute_input": "2021-08-25T06:19:04.5484Z",
     "iopub.status.busy": "2021-08-25T06:19:04.54796Z",
     "iopub.status.idle": "2021-08-25T06:19:04.890178Z",
     "shell.execute_reply": "2021-08-25T06:19:04.889133Z",
     "shell.execute_reply.started": "2021-08-25T06:19:04.548367Z"
    }
   },
   "outputs": [],
   "source": [
    "# referred https://www.kaggle.com/thebrownviking20/everything-you-can-do-with-a-time-series/notebook#Aim\n",
    "plt.figure(figsize=(22,8))\n",
    "data_sbin[\"Close Price\"].plot(legend=True)\n",
    "shifted = data_sbin[\"Close Price\"].shift(10).plot(legend=True)\n",
    "shifted.legend(['Close Price','Close Price Lagged'])\n",
    "plt.title(\"Close Price Lagged\")\n",
    "plt.ylabel('Close Price')\n",
    "plt.show()"
   ]
  },
  {
   "cell_type": "markdown",
   "metadata": {},
   "source": [
    "Here, the relation between prices and its past values can be observed at a given time t,Here we can see that the two plots are following the same trend for over most of time and at very few points are in reverse trend, this is further analysed using autocorrelation and finding correlation at different instances."
   ]
  },
  {
   "cell_type": "markdown",
   "metadata": {},
   "source": [
    "## 4. Auto-correlation and Partial Auto-correlation of SBIN Close Price"
   ]
  },
  {
   "cell_type": "code",
   "execution_count": null,
   "metadata": {
    "execution": {
     "iopub.execute_input": "2021-08-25T06:19:09.775813Z",
     "iopub.status.busy": "2021-08-25T06:19:09.775404Z",
     "iopub.status.idle": "2021-08-25T06:19:10.045359Z",
     "shell.execute_reply": "2021-08-25T06:19:10.044143Z",
     "shell.execute_reply.started": "2021-08-25T06:19:09.775782Z"
    }
   },
   "outputs": [],
   "source": [
    "from statsmodels.graphics.tsaplots import plot_acf, plot_pacf"
   ]
  },
  {
   "cell_type": "markdown",
   "metadata": {},
   "source": [
    "The autorrelation will give us further information till how many lags the close price is significatanly correlated to its past data."
   ]
  },
  {
   "cell_type": "code",
   "execution_count": null,
   "metadata": {
    "execution": {
     "iopub.execute_input": "2021-08-25T06:19:10.959123Z",
     "iopub.status.busy": "2021-08-25T06:19:10.958719Z",
     "iopub.status.idle": "2021-08-25T06:19:11.200965Z",
     "shell.execute_reply": "2021-08-25T06:19:11.200137Z",
     "shell.execute_reply.started": "2021-08-25T06:19:10.959089Z"
    }
   },
   "outputs": [],
   "source": [
    "plot_acf(data_sbin['Close Price'])\n",
    "plt.xlabel(\"Lag\")\n",
    "plt.ylabel(\"Correation\")\n",
    "plt.title(\"Auto-correlation of Close Prices of SBIN for 2 years data\")\n",
    "plt.show()"
   ]
  },
  {
   "cell_type": "markdown",
   "metadata": {},
   "source": [
    "The series is significantly correlated for 25 lags."
   ]
  },
  {
   "cell_type": "code",
   "execution_count": null,
   "metadata": {
    "execution": {
     "iopub.execute_input": "2021-08-25T06:19:14.065801Z",
     "iopub.status.busy": "2021-08-25T06:19:14.063724Z",
     "iopub.status.idle": "2021-08-25T06:19:14.28804Z",
     "shell.execute_reply": "2021-08-25T06:19:14.28663Z",
     "shell.execute_reply.started": "2021-08-25T06:19:14.06576Z"
    }
   },
   "outputs": [],
   "source": [
    "plot_acf(data['Close Price'], lags=100)\n",
    "plt.xlabel(\"Lag\")\n",
    "plt.ylabel(\"Correation\")\n",
    "plt.title(\"Auto-correlation of Close Prices of SBIN for 10 years data\")\n",
    "plt.show()"
   ]
  },
  {
   "cell_type": "markdown",
   "metadata": {},
   "source": [
    "For 10 years data, the number of sugificant lags is more than for 2 years data which implies that long term predictions can be performed if large dataset available."
   ]
  },
  {
   "cell_type": "code",
   "execution_count": null,
   "metadata": {
    "execution": {
     "iopub.execute_input": "2021-08-25T06:19:20.528516Z",
     "iopub.status.busy": "2021-08-25T06:19:20.528118Z",
     "iopub.status.idle": "2021-08-25T06:19:20.891387Z",
     "shell.execute_reply": "2021-08-25T06:19:20.890392Z",
     "shell.execute_reply.started": "2021-08-25T06:19:20.528484Z"
    }
   },
   "outputs": [],
   "source": [
    "plot_pacf(data_sbin['Close Price'])\n",
    "plt.show()"
   ]
  },
  {
   "cell_type": "markdown",
   "metadata": {},
   "source": [
    "The partial autocorrelation is high for first two lags and quite low for rest of the lags."
   ]
  },
  {
   "cell_type": "markdown",
   "metadata": {},
   "source": [
    "As autcorrelation is highly significant than partial autocorrelation, we can infer that for stock prices, considering continuous data will result in beter predictions than data point at a single instance."
   ]
  },
  {
   "cell_type": "markdown",
   "metadata": {},
   "source": [
    "### 5. Understanding correlation in close price data by accounting Returns "
   ]
  },
  {
   "cell_type": "code",
   "execution_count": null,
   "metadata": {
    "execution": {
     "iopub.execute_input": "2021-08-25T06:19:31.762179Z",
     "iopub.status.busy": "2021-08-25T06:19:31.761767Z",
     "iopub.status.idle": "2021-08-25T06:19:31.785455Z",
     "shell.execute_reply": "2021-08-25T06:19:31.784698Z",
     "shell.execute_reply.started": "2021-08-25T06:19:31.762143Z"
    }
   },
   "outputs": [],
   "source": [
    "# Referred https://www.kaggle.com/thebrownviking20/everything-you-can-do-with-a-time-series/notebook#1.-Introduction-to-date-and-time\n",
    "data_sbin['Return'] = data_sbin['Close Price'].pct_change().mul(100).fillna(0)\n",
    "data_sbin.head(3)"
   ]
  },
  {
   "cell_type": "code",
   "execution_count": null,
   "metadata": {
    "execution": {
     "iopub.execute_input": "2021-08-25T06:19:34.105052Z",
     "iopub.status.busy": "2021-08-25T06:19:34.104684Z",
     "iopub.status.idle": "2021-08-25T06:19:34.112255Z",
     "shell.execute_reply": "2021-08-25T06:19:34.111491Z",
     "shell.execute_reply.started": "2021-08-25T06:19:34.105022Z"
    }
   },
   "outputs": [],
   "source": [
    "data['Return'] = data['Close Price'].pct_change().mul(100).fillna(0)"
   ]
  },
  {
   "cell_type": "code",
   "execution_count": null,
   "metadata": {
    "execution": {
     "iopub.execute_input": "2021-08-25T06:19:34.475339Z",
     "iopub.status.busy": "2021-08-25T06:19:34.474764Z",
     "iopub.status.idle": "2021-08-25T06:19:34.601942Z",
     "shell.execute_reply": "2021-08-25T06:19:34.600694Z",
     "shell.execute_reply.started": "2021-08-25T06:19:34.475307Z"
    }
   },
   "outputs": [],
   "source": [
    "plt.boxplot(data['Return'])\n",
    "plt.title(\"Return Box Plot for 10 Years data\")\n",
    "plt.ylabel(\"Returns %\")\n",
    "plt.show()"
   ]
  },
  {
   "cell_type": "markdown",
   "metadata": {},
   "source": [
    "Here we can se, most o the returns lie in +/-5% range, with few returns outside this range. However one return is significantly larger than others, let's examine the data point."
   ]
  },
  {
   "cell_type": "code",
   "execution_count": null,
   "metadata": {
    "execution": {
     "iopub.execute_input": "2021-08-25T06:19:37.523918Z",
     "iopub.status.busy": "2021-08-25T06:19:37.523521Z",
     "iopub.status.idle": "2021-08-25T06:19:37.545009Z",
     "shell.execute_reply": "2021-08-25T06:19:37.543671Z",
     "shell.execute_reply.started": "2021-08-25T06:19:37.523876Z"
    }
   },
   "outputs": [],
   "source": [
    "data.loc[data['Return']>20]"
   ]
  },
  {
   "cell_type": "markdown",
   "metadata": {},
   "source": [
    "As the stock prices are dependent on a lot of external features, external seraches for the date were required to check what lead to the surge in price.\n",
    "After, Search on https:moneycontrol.com no corporate action were found on or near this date ehich may cause this result.\n",
    "After Seraching for keywords on google \"25 oct 2017 india stock market sbin\" i was found out that the price surge was caused as govt announced a plan for PSU banks(ref: https://www.livemint.com/Money/zEOPL7wRuPbHFsgt7BQlVI/PSU-banks-stocks-rally-on-recapitalisation-plans-SBI-PNB-s.html)\n",
    "This tells us that such events need to be considered, however accounting for news is a great deal, so for this case study we will try to take this into account by cosidering peer companies data for SBIN stock which is analysed later."
   ]
  },
  {
   "cell_type": "code",
   "execution_count": null,
   "metadata": {
    "execution": {
     "iopub.execute_input": "2021-08-25T06:19:40.636546Z",
     "iopub.status.busy": "2021-08-25T06:19:40.636123Z",
     "iopub.status.idle": "2021-08-25T06:19:40.64646Z",
     "shell.execute_reply": "2021-08-25T06:19:40.645664Z",
     "shell.execute_reply.started": "2021-08-25T06:19:40.636509Z"
    }
   },
   "outputs": [],
   "source": [
    "print(data['Return'].describe())"
   ]
  },
  {
   "cell_type": "code",
   "execution_count": null,
   "metadata": {
    "execution": {
     "iopub.execute_input": "2021-08-25T06:19:40.863394Z",
     "iopub.status.busy": "2021-08-25T06:19:40.862909Z",
     "iopub.status.idle": "2021-08-25T06:19:40.880124Z",
     "shell.execute_reply": "2021-08-25T06:19:40.878903Z",
     "shell.execute_reply.started": "2021-08-25T06:19:40.863363Z"
    }
   },
   "outputs": [],
   "source": [
    "print(\"99% quantile:\",data['Return'].quantile(0.99))\n",
    "print(\"95% quantile:\",data['Return'].quantile(0.95))\n",
    "print(\"90% quantile:\",data['Return'].quantile(0.90))\n",
    "print(\"10% quantile:\",data['Return'].quantile(0.10))\n",
    "print(\"5% quantile:\",data['Return'].quantile(0.5))\n",
    "print(\"1% quantile:\",data['Return'].quantile(0.01))"
   ]
  },
  {
   "cell_type": "markdown",
   "metadata": {},
   "source": [
    "here we can see approx 99% of returns lie in the range +/-5%, so this can be a good threshold to analyse the patterns near signifcantly higher and lower returns."
   ]
  },
  {
   "cell_type": "code",
   "execution_count": null,
   "metadata": {
    "execution": {
     "iopub.execute_input": "2021-08-25T06:19:44.747228Z",
     "iopub.status.busy": "2021-08-25T06:19:44.746796Z",
     "iopub.status.idle": "2021-08-25T06:19:44.887519Z",
     "shell.execute_reply": "2021-08-25T06:19:44.886521Z",
     "shell.execute_reply.started": "2021-08-25T06:19:44.747192Z"
    }
   },
   "outputs": [],
   "source": [
    "plt.boxplot(data_sbin['Return'])\n",
    "plt.title(\"Returns Box Plot for 2011-2012 data\")\n",
    "plt.show()"
   ]
  },
  {
   "cell_type": "code",
   "execution_count": null,
   "metadata": {
    "execution": {
     "iopub.execute_input": "2021-08-25T06:19:44.929003Z",
     "iopub.status.busy": "2021-08-25T06:19:44.928643Z",
     "iopub.status.idle": "2021-08-25T06:19:44.939817Z",
     "shell.execute_reply": "2021-08-25T06:19:44.938702Z",
     "shell.execute_reply.started": "2021-08-25T06:19:44.928974Z"
    }
   },
   "outputs": [],
   "source": [
    "print(data_sbin['Return'].describe())"
   ]
  },
  {
   "cell_type": "code",
   "execution_count": null,
   "metadata": {
    "execution": {
     "iopub.execute_input": "2021-08-25T06:19:47.195816Z",
     "iopub.status.busy": "2021-08-25T06:19:47.195235Z",
     "iopub.status.idle": "2021-08-25T06:19:47.215137Z",
     "shell.execute_reply": "2021-08-25T06:19:47.214056Z",
     "shell.execute_reply.started": "2021-08-25T06:19:47.195781Z"
    }
   },
   "outputs": [],
   "source": [
    "print(\"99% quantile:\",data_sbin['Return'].quantile(0.99))\n",
    "print(\"95% quantile:\",data_sbin['Return'].quantile(0.95))\n",
    "print(\"90% quantile:\",data_sbin['Return'].quantile(0.90))\n",
    "print(\"10% quantile:\",data_sbin['Return'].quantile(0.10))\n",
    "print(\"5% quantile:\",data_sbin['Return'].quantile(0.5))\n",
    "print(\"1% quantile:\",data_sbin['Return'].quantile(0.01))"
   ]
  },
  {
   "cell_type": "code",
   "execution_count": null,
   "metadata": {
    "execution": {
     "iopub.execute_input": "2021-08-25T06:19:48.760652Z",
     "iopub.status.busy": "2021-08-25T06:19:48.760215Z",
     "iopub.status.idle": "2021-08-25T06:19:48.773848Z",
     "shell.execute_reply": "2021-08-25T06:19:48.772685Z",
     "shell.execute_reply.started": "2021-08-25T06:19:48.760614Z"
    }
   },
   "outputs": [],
   "source": [
    "return_threshold = 5.0\n",
    "data_sbin['is_return_high'] = np.where(data_sbin['Return']>return_threshold,1,0)\n",
    "data_sbin['is_return_low'] = np.where(data_sbin['Return']<-return_threshold,1,0)\n",
    "data['is_return_high'] = np.where(data['Return']>return_threshold,1,0)\n",
    "data['is_return_low'] = np.where(data['Return']<-return_threshold,1,0)"
   ]
  },
  {
   "cell_type": "code",
   "execution_count": null,
   "metadata": {
    "execution": {
     "iopub.execute_input": "2021-08-25T06:19:48.955546Z",
     "iopub.status.busy": "2021-08-25T06:19:48.955095Z",
     "iopub.status.idle": "2021-08-25T06:19:48.964403Z",
     "shell.execute_reply": "2021-08-25T06:19:48.963211Z",
     "shell.execute_reply.started": "2021-08-25T06:19:48.955508Z"
    },
    "scrolled": true
   },
   "outputs": [],
   "source": [
    "print(data['is_return_high'].sum())\n",
    "print(data['is_return_low'].sum())\n",
    "print(data_sbin['is_return_high'].sum())\n",
    "print(data_sbin['is_return_low'].sum())"
   ]
  },
  {
   "cell_type": "code",
   "execution_count": null,
   "metadata": {
    "execution": {
     "iopub.execute_input": "2021-08-25T06:20:07.187172Z",
     "iopub.status.busy": "2021-08-25T06:20:07.186812Z",
     "iopub.status.idle": "2021-08-25T06:20:07.506729Z",
     "shell.execute_reply": "2021-08-25T06:20:07.505644Z",
     "shell.execute_reply.started": "2021-08-25T06:20:07.187139Z"
    }
   },
   "outputs": [],
   "source": [
    "plt.figure(figsize=(22,8))\n",
    "data_sbin['Close Price'].plot()\n",
    "plt.plot(data_sbin[data_sbin['is_return_high'] == 1]['Close Price'],marker='^', color='g',linewidth=0,label=\"Return more than 5%\")\n",
    "plt.plot(data_sbin[data_sbin['is_return_low'] == 1]['Close Price'],marker='v', color='r',linewidth=0, label=\"Return less than 5%\")\n",
    "plt.ylabel(\"Close Price\")\n",
    "plt.title(\"Graph higlighting days when returns on d-1 days higher than 5%\")\n",
    "plt.legend()\n",
    "plt.show()"
   ]
  },
  {
   "cell_type": "code",
   "execution_count": null,
   "metadata": {
    "execution": {
     "iopub.execute_input": "2021-08-25T06:20:29.536504Z",
     "iopub.status.busy": "2021-08-25T06:20:29.536104Z",
     "iopub.status.idle": "2021-08-25T06:20:29.572917Z",
     "shell.execute_reply": "2021-08-25T06:20:29.571813Z",
     "shell.execute_reply.started": "2021-08-25T06:20:29.536471Z"
    }
   },
   "outputs": [],
   "source": [
    "data_sbin['Return_d-2'] = data_sbin['Close Price'].pct_change(2).mul(100).fillna(0)\n",
    "data_sbin['Return_d-3'] = data_sbin['Close Price'].pct_change(3).mul(100).fillna(0)\n",
    "data_sbin['Return_d-4'] = data_sbin['Close Price'].pct_change(4).mul(100).fillna(0)\n",
    "data_sbin['Return_d-5'] = data_sbin['Close Price'].pct_change(5).mul(100).fillna(0)\n",
    "data_sbin.tail(2)"
   ]
  },
  {
   "cell_type": "code",
   "execution_count": null,
   "metadata": {
    "execution": {
     "iopub.execute_input": "2021-08-25T06:20:30.832296Z",
     "iopub.status.busy": "2021-08-25T06:20:30.831838Z",
     "iopub.status.idle": "2021-08-25T06:20:30.850989Z",
     "shell.execute_reply": "2021-08-25T06:20:30.84967Z",
     "shell.execute_reply.started": "2021-08-25T06:20:30.832259Z"
    }
   },
   "outputs": [],
   "source": [
    "# threshold is taken such that lower number of datapoints are obtained for each case\n",
    "return_threshold = 7.5\n",
    "data_sbin['is_return_high_d-2'] = np.where(data_sbin['Return_d-2']>return_threshold,1,0)\n",
    "data_sbin['is_return_low_d-2'] = np.where(data_sbin['Return_d-2']<-return_threshold,1,0)\n",
    "return_threshold = 10.0\n",
    "data_sbin['is_return_high_d-3'] = np.where(data_sbin['Return_d-3']>return_threshold,1,0)\n",
    "data_sbin['is_return_low_d-3'] = np.where(data_sbin['Return_d-3']<-return_threshold,1,0)\n",
    "\n",
    "data_sbin['is_return_high_d-4'] = np.where(data_sbin['Return_d-4']>return_threshold,1,0)\n",
    "data_sbin['is_return_low_d-4'] = np.where(data_sbin['Return_d-4']<-return_threshold,1,0)\n",
    "\n",
    "data_sbin['is_return_high_d-5'] = np.where(data_sbin['Return_d-5']>return_threshold,1,0)\n",
    "data_sbin['is_return_low_d-5'] = np.where(data_sbin['Return_d-5']<-return_threshold,1,0)"
   ]
  },
  {
   "cell_type": "code",
   "execution_count": null,
   "metadata": {
    "execution": {
     "iopub.execute_input": "2021-08-25T06:20:32.344155Z",
     "iopub.status.busy": "2021-08-25T06:20:32.343751Z",
     "iopub.status.idle": "2021-08-25T06:20:32.355802Z",
     "shell.execute_reply": "2021-08-25T06:20:32.354538Z",
     "shell.execute_reply.started": "2021-08-25T06:20:32.344121Z"
    }
   },
   "outputs": [],
   "source": [
    "print(data_sbin['is_return_high_d-2'].sum())\n",
    "print(data_sbin['is_return_low_d-2'].sum())\n",
    "print(data_sbin['is_return_high_d-3'].sum())\n",
    "print(data_sbin['is_return_low_d-3'].sum())\n",
    "print(data_sbin['is_return_high_d-4'].sum())\n",
    "print(data_sbin['is_return_low_d-4'].sum())\n",
    "print(data_sbin['is_return_high_d-5'].sum())\n",
    "print(data_sbin['is_return_low_d-5'].sum())"
   ]
  },
  {
   "cell_type": "code",
   "execution_count": null,
   "metadata": {
    "execution": {
     "iopub.execute_input": "2021-08-25T06:20:34.506211Z",
     "iopub.status.busy": "2021-08-25T06:20:34.505662Z",
     "iopub.status.idle": "2021-08-25T06:20:34.813516Z",
     "shell.execute_reply": "2021-08-25T06:20:34.812778Z",
     "shell.execute_reply.started": "2021-08-25T06:20:34.506177Z"
    }
   },
   "outputs": [],
   "source": [
    "plt.figure(figsize=(22,8))\n",
    "data_sbin['Close Price'].plot()\n",
    "plt.plot(data_sbin[data_sbin['is_return_high'] == 1]['Close Price'],marker='^', color='g',linewidth=0,label=\"Return more than 5%\")\n",
    "plt.plot(data_sbin[data_sbin['is_return_low'] == 1]['Close Price'],marker='v', color='r',linewidth=0, label=\"Return less than 5%\")\n",
    "plt.plot(data_sbin[data_sbin['is_return_high_d-2'] == 1]['Close Price'],marker='^', color='g',linewidth=0,label=\"Return more than 7.5%\")\n",
    "plt.plot(data_sbin[data_sbin['is_return_low_d-2'] == 1]['Close Price'],marker='v', color='r',linewidth=0, label=\"Return less than 7.5%\")\n",
    "plt.plot(data_sbin[data_sbin['is_return_high_d-3'] == 1]['Close Price'],marker='^', color='g',linewidth=0,label=\"Return more than 10%\")\n",
    "plt.plot(data_sbin[data_sbin['is_return_low_d-3'] == 1]['Close Price'],marker='v', color='r',linewidth=0, label=\"Return less than 10%\")\n",
    "plt.plot(data_sbin[data_sbin['is_return_high_d-4'] == 1]['Close Price'],marker='^', color='g',linewidth=0,label=\"Return more than 10%\")\n",
    "plt.plot(data_sbin[data_sbin['is_return_low_d-4'] == 1]['Close Price'],marker='v', color='r',linewidth=0, label=\"Return less than 10%\")\n",
    "plt.plot(data_sbin[data_sbin['is_return_high_d-5'] == 1]['Close Price'],marker='^', color='g',linewidth=0,label=\"Return more than 10%\")\n",
    "plt.plot(data_sbin[data_sbin['is_return_low_d-5'] == 1]['Close Price'],marker='v', color='r',linewidth=0, label=\"Return less than 10%\")\n",
    "plt.title(\"Graph higlighting days when returns on days are higher/lower than threshold for all cases\")\n",
    "plt.ylabel('Close Price')\n",
    "plt.show()"
   ]
  },
  {
   "cell_type": "markdown",
   "metadata": {},
   "source": [
    "Examining The Graphs Separetly for each Case"
   ]
  },
  {
   "cell_type": "code",
   "execution_count": null,
   "metadata": {
    "execution": {
     "iopub.execute_input": "2021-08-25T06:20:38.279533Z",
     "iopub.status.busy": "2021-08-25T06:20:38.278971Z",
     "iopub.status.idle": "2021-08-25T06:20:38.601553Z",
     "shell.execute_reply": "2021-08-25T06:20:38.600122Z",
     "shell.execute_reply.started": "2021-08-25T06:20:38.2795Z"
    }
   },
   "outputs": [],
   "source": [
    "plt.figure(figsize=(22,8))\n",
    "data_sbin['Close Price'].plot()\n",
    "plt.plot(data_sbin[data_sbin['is_return_high_d-2'] == 1]['Close Price'],marker='^', color='g',linewidth=0,label=\"Return more than 7.5%\")\n",
    "plt.plot(data_sbin[data_sbin['is_return_low_d-2'] == 1]['Close Price'],marker='v', color='r',linewidth=0, label=\"Return less than 7.5%\")\n",
    "plt.title(\"Graph higlighting days when returns on d-2 days higher than 7.5%\")\n",
    "plt.ylabel('Close Price')\n",
    "plt.legend()\n",
    "plt.show()"
   ]
  },
  {
   "cell_type": "code",
   "execution_count": null,
   "metadata": {
    "execution": {
     "iopub.execute_input": "2021-08-25T06:20:41.211318Z",
     "iopub.status.busy": "2021-08-25T06:20:41.210897Z",
     "iopub.status.idle": "2021-08-25T06:20:41.533675Z",
     "shell.execute_reply": "2021-08-25T06:20:41.53245Z",
     "shell.execute_reply.started": "2021-08-25T06:20:41.211285Z"
    }
   },
   "outputs": [],
   "source": [
    "plt.figure(figsize=(22,8))\n",
    "data_sbin['Close Price'].plot()\n",
    "plt.plot(data_sbin[data_sbin['is_return_high_d-3'] == 1]['Close Price'],marker='^', color='g',linewidth=0,label=\"Return more than 10%\")\n",
    "plt.plot(data_sbin[data_sbin['is_return_low_d-3'] == 1]['Close Price'],marker='v', color='r',linewidth=0, label=\"Return less than 10%\")\n",
    "plt.title(\"Graph higlighting days when returns on d-3 days higher than 10%\")\n",
    "plt.legend()\n",
    "plt.ylabel('Close Price')\n",
    "plt.show()"
   ]
  },
  {
   "cell_type": "code",
   "execution_count": null,
   "metadata": {
    "execution": {
     "iopub.execute_input": "2021-08-25T06:20:42.812982Z",
     "iopub.status.busy": "2021-08-25T06:20:42.812584Z",
     "iopub.status.idle": "2021-08-25T06:20:43.129766Z",
     "shell.execute_reply": "2021-08-25T06:20:43.128464Z",
     "shell.execute_reply.started": "2021-08-25T06:20:42.812948Z"
    }
   },
   "outputs": [],
   "source": [
    "plt.figure(figsize=(22,8))\n",
    "data_sbin['Close Price'].plot()\n",
    "plt.plot(data_sbin[data_sbin['is_return_high_d-4'] == 1]['Close Price'],marker='^', color='g',linewidth=0,label=\"Return more than 10%\")\n",
    "plt.plot(data_sbin[data_sbin['is_return_low_d-4'] == 1]['Close Price'],marker='v', color='r',linewidth=0, label=\"Return less than 10%\")\n",
    "plt.title(\"Graph higlighting days when returns on d-4 days higher than 10%\")\n",
    "plt.legend()\n",
    "plt.ylabel('Close Price')\n",
    "plt.show()"
   ]
  },
  {
   "cell_type": "code",
   "execution_count": null,
   "metadata": {
    "execution": {
     "iopub.execute_input": "2021-08-25T06:20:44.357676Z",
     "iopub.status.busy": "2021-08-25T06:20:44.35727Z",
     "iopub.status.idle": "2021-08-25T06:20:44.688906Z",
     "shell.execute_reply": "2021-08-25T06:20:44.687835Z",
     "shell.execute_reply.started": "2021-08-25T06:20:44.357644Z"
    }
   },
   "outputs": [],
   "source": [
    "plt.figure(figsize=(22,8))\n",
    "data_sbin['Close Price'].plot()\n",
    "plt.plot(data_sbin[data_sbin['is_return_high_d-5'] == 1]['Close Price'],marker='^', color='g',linewidth=0,label=\"Return more than 10%\")\n",
    "plt.plot(data_sbin[data_sbin['is_return_low_d-5'] == 1]['Close Price'],marker='v', color='r',linewidth=0, label=\"Return less than 10%\")\n",
    "plt.title(\"Graph higlighting days when returns on d-5 days higher than 10%\")\n",
    "plt.legend()\n",
    "plt.ylabel('Close Price')\n",
    "plt.show()"
   ]
  },
  {
   "cell_type": "markdown",
   "metadata": {},
   "source": [
    "In all the graphs it can be observed that a significant moment is there in the price for neear the events marked, further we subset the data for +/- 15 working days from these points to check the correlation between this data "
   ]
  },
  {
   "cell_type": "markdown",
   "metadata": {},
   "source": [
    "#### Analysing graphs for +/- 15 days before and after return high and low date "
   ]
  },
  {
   "cell_type": "markdown",
   "metadata": {},
   "source": [
    "##### For 1 Day Returns"
   ]
  },
  {
   "cell_type": "code",
   "execution_count": null,
   "metadata": {
    "execution": {
     "iopub.execute_input": "2021-08-25T06:20:52.945079Z",
     "iopub.status.busy": "2021-08-25T06:20:52.944704Z",
     "iopub.status.idle": "2021-08-25T06:20:53.471833Z",
     "shell.execute_reply": "2021-08-25T06:20:53.470569Z",
     "shell.execute_reply.started": "2021-08-25T06:20:52.945046Z"
    }
   },
   "outputs": [],
   "source": [
    "lag = 15\n",
    "data_sbin.reset_index(inplace=True)\n",
    "list_ = data_sbin.index[data_sbin['is_return_high'] ==1]\n",
    "subset_high_d1 = []\n",
    "plt.figure(figsize=(22,8))\n",
    "for i in range(len(list_)):\n",
    "    subset_high_d1.append(data_sbin[list_[i]:list_[i]+lag].copy())\n",
    "    subset_high_d1[i].set_index(['Date'],inplace=True)\n",
    "    subset_high_d1[i]['Close Price'].plot(label = \"Close Price \"+str(i))\n",
    "data_sbin.set_index(['Date'],inplace=True)\n",
    "plt.legend()\n",
    "plt.title(\"Close price when return is higher than 5% for 1 day\")\n",
    "plt.show()"
   ]
  },
  {
   "cell_type": "code",
   "execution_count": null,
   "metadata": {
    "execution": {
     "iopub.execute_input": "2021-08-25T06:20:53.475263Z",
     "iopub.status.busy": "2021-08-25T06:20:53.474856Z",
     "iopub.status.idle": "2021-08-25T06:20:53.913194Z",
     "shell.execute_reply": "2021-08-25T06:20:53.91181Z",
     "shell.execute_reply.started": "2021-08-25T06:20:53.475232Z"
    }
   },
   "outputs": [],
   "source": [
    "lag = 15\n",
    "data_sbin.reset_index(inplace=True)\n",
    "list_ = data_sbin.index[data_sbin['is_return_low'] ==1]\n",
    "subset_low_d1 = []\n",
    "plt.figure(figsize=(22,8))\n",
    "for i in range(len(list_)):\n",
    "    subset_low_d1.append(data_sbin[list_[i]:list_[i]+lag].copy())\n",
    "    subset_low_d1[i].set_index(['Date'],inplace=True)\n",
    "    subset_low_d1[i]['Close Price'].plot(label = \"Close Price \"+str(i))\n",
    "data_sbin.set_index(['Date'],inplace=True)\n",
    "plt.legend()\n",
    "plt.title(\"Close price when return is lower than 5% for 1 day\")\n",
    "plt.show()"
   ]
  },
  {
   "cell_type": "markdown",
   "metadata": {},
   "source": [
    "For 1 day, we can observer for both cases the graphs seem to have similar patterns"
   ]
  },
  {
   "cell_type": "markdown",
   "metadata": {},
   "source": [
    "##### For 2 days returns"
   ]
  },
  {
   "cell_type": "code",
   "execution_count": null,
   "metadata": {
    "execution": {
     "iopub.execute_input": "2021-08-25T06:20:57.443029Z",
     "iopub.status.busy": "2021-08-25T06:20:57.442671Z",
     "iopub.status.idle": "2021-08-25T06:20:57.868775Z",
     "shell.execute_reply": "2021-08-25T06:20:57.867584Z",
     "shell.execute_reply.started": "2021-08-25T06:20:57.443001Z"
    }
   },
   "outputs": [],
   "source": [
    "lag = 15\n",
    "data_sbin.reset_index(inplace=True)\n",
    "list_ = data_sbin.index[data_sbin['is_return_high_d-2'] ==1]\n",
    "subset_high_d2 = []\n",
    "plt.figure(figsize=(22,8))\n",
    "for i in range(len(list_)):\n",
    "    subset_high_d2.append(data_sbin[list_[i]:list_[i]+lag].copy())\n",
    "    subset_high_d2[i].set_index(['Date'],inplace=True)\n",
    "    subset_high_d2[i]['Close Price'].plot(label = \"Close Price \"+str(i)) \n",
    "data_sbin.set_index(['Date'],inplace=True)\n",
    "plt.legend()\n",
    "plt.title(\"Close price when return is higher than 7.5% for 2 days \")\n",
    "plt.show()"
   ]
  },
  {
   "cell_type": "code",
   "execution_count": null,
   "metadata": {
    "execution": {
     "iopub.execute_input": "2021-08-25T06:20:59.114625Z",
     "iopub.status.busy": "2021-08-25T06:20:59.114214Z",
     "iopub.status.idle": "2021-08-25T06:20:59.72312Z",
     "shell.execute_reply": "2021-08-25T06:20:59.722399Z",
     "shell.execute_reply.started": "2021-08-25T06:20:59.114596Z"
    }
   },
   "outputs": [],
   "source": [
    "lag = 15\n",
    "data_sbin.reset_index(inplace=True)\n",
    "list_ = data_sbin.index[data_sbin['is_return_low_d-2'] ==1]\n",
    "subset_low_d2 = []\n",
    "plt.figure(figsize=(22,8))\n",
    "for i in range(len(list_)):\n",
    "    subset_low_d2.append(data_sbin[list_[i]:list_[i]+lag].copy())\n",
    "    subset_low_d2[i].set_index(['Date'],inplace=True)\n",
    "    subset_low_d2[i]['Close Price'].plot(label = \"Close Price \"+str(i)) \n",
    "data_sbin.set_index(['Date'],inplace=True)\n",
    "plt.legend()\n",
    "plt.title(\"Close price vs date when return is lower than 7.5% for 2 days \")\n",
    "plt.show()"
   ]
  },
  {
   "cell_type": "markdown",
   "metadata": {},
   "source": [
    "For 2 days returns, we can observer for both cases all the graphs do not seems to follow any \n",
    "pattern visually."
   ]
  },
  {
   "cell_type": "markdown",
   "metadata": {},
   "source": [
    "##### For 3 day returns"
   ]
  },
  {
   "cell_type": "code",
   "execution_count": null,
   "metadata": {
    "execution": {
     "iopub.execute_input": "2021-08-25T06:21:00.878271Z",
     "iopub.status.busy": "2021-08-25T06:21:00.87779Z",
     "iopub.status.idle": "2021-08-25T06:21:01.212728Z",
     "shell.execute_reply": "2021-08-25T06:21:01.211398Z",
     "shell.execute_reply.started": "2021-08-25T06:21:00.878233Z"
    }
   },
   "outputs": [],
   "source": [
    "lag = 15\n",
    "data_sbin.reset_index(inplace=True)\n",
    "list_ = data_sbin.index[data_sbin['is_return_high_d-3'] ==1]\n",
    "subset_high_d3 = []\n",
    "plt.figure(figsize=(22,8))\n",
    "for i in range(len(list_)):\n",
    "    subset_high_d3.append(data_sbin[list_[i]:list_[i]+lag].copy())\n",
    "    subset_high_d3[i].set_index(['Date'],inplace=True)\n",
    "    subset_high_d3[i]['Close Price'].plot(label = \"Close Price \"+str(i)) \n",
    "data_sbin.set_index(['Date'],inplace=True)\n",
    "plt.legend()\n",
    "plt.title(\"Close price when return is higher than 10% for 3 day return\")\n",
    "plt.show()"
   ]
  },
  {
   "cell_type": "markdown",
   "metadata": {},
   "source": [
    "A big jump is observed in all the graphs"
   ]
  },
  {
   "cell_type": "code",
   "execution_count": null,
   "metadata": {
    "execution": {
     "iopub.execute_input": "2021-08-25T06:21:02.543756Z",
     "iopub.status.busy": "2021-08-25T06:21:02.543402Z",
     "iopub.status.idle": "2021-08-25T06:21:02.810387Z",
     "shell.execute_reply": "2021-08-25T06:21:02.809212Z",
     "shell.execute_reply.started": "2021-08-25T06:21:02.543727Z"
    }
   },
   "outputs": [],
   "source": [
    "lag = 15\n",
    "data_sbin.reset_index(inplace=True)\n",
    "list_ = data_sbin.index[data_sbin['is_return_low_d-3'] ==1]\n",
    "subset_low_d3 = []\n",
    "plt.figure(figsize=(22,8))\n",
    "for i in range(len(list_)):\n",
    "    subset_low_d3.append(data_sbin[list_[i]:list_[i]+lag].copy())\n",
    "    subset_low_d3[i]['Close Price'].plot(label = \"Close Price \"+str(i)) \n",
    "data_sbin.set_index(['Date'],inplace=True)\n",
    "plt.legend()\n",
    "plt.title(\"Close price vs date when return is higher than 10% for 3 day return\")\n",
    "plt.show()"
   ]
  },
  {
   "cell_type": "markdown",
   "metadata": {},
   "source": [
    "For 3 days returns, similar patterns can be observed in all graphs."
   ]
  },
  {
   "cell_type": "markdown",
   "metadata": {},
   "source": [
    "##### For 4 day returns"
   ]
  },
  {
   "cell_type": "code",
   "execution_count": null,
   "metadata": {
    "execution": {
     "iopub.execute_input": "2021-08-25T06:21:04.458121Z",
     "iopub.status.busy": "2021-08-25T06:21:04.457761Z",
     "iopub.status.idle": "2021-08-25T06:21:04.790131Z",
     "shell.execute_reply": "2021-08-25T06:21:04.789174Z",
     "shell.execute_reply.started": "2021-08-25T06:21:04.458086Z"
    }
   },
   "outputs": [],
   "source": [
    "lag = 15\n",
    "data_sbin.reset_index(inplace=True)\n",
    "list_ = data_sbin.index[data_sbin['is_return_high_d-4'] ==1]\n",
    "subset_high_d4 = []\n",
    "plt.figure(figsize=(22,8))\n",
    "for i in range(len(list_)):\n",
    "    subset_high_d4.append(data_sbin[list_[i]:list_[i]+lag].copy())\n",
    "    subset_high_d4[i]['Close Price'].plot(label = \"Close Price \"+str(i)) \n",
    "data_sbin.set_index(['Date'],inplace=True)\n",
    "plt.legend()\n",
    "plt.title(\"Close price vs date when return is higher than 10% for 4 day return\")\n",
    "plt.show()"
   ]
  },
  {
   "cell_type": "code",
   "execution_count": null,
   "metadata": {
    "execution": {
     "iopub.execute_input": "2021-08-25T07:07:13.093702Z",
     "iopub.status.busy": "2021-08-25T07:07:13.093215Z",
     "iopub.status.idle": "2021-08-25T07:07:13.47204Z",
     "shell.execute_reply": "2021-08-25T07:07:13.47127Z",
     "shell.execute_reply.started": "2021-08-25T07:07:13.093666Z"
    }
   },
   "outputs": [],
   "source": [
    "lag = 15\n",
    "data_sbin.reset_index(inplace=True)\n",
    "list_ = data_sbin.index[data_sbin['is_return_low_d-4'] ==1]\n",
    "subset_low_d4 = []\n",
    "plt.figure(figsize=(22,8))\n",
    "for i in range(len(list_)):\n",
    "    subset_low_d4.append(data_sbin[list_[i]:list_[i]+lag].copy())\n",
    "    subset_low_d4[i]['Close Price'].plot(label = \"Close Price \"+str(i)) \n",
    "data_sbin.set_index(['Date'],inplace=True)\n",
    "plt.legend()\n",
    "plt.title(\"Close price vs date when return is lower than 10% for 4 day return\")\n",
    "plt.show()"
   ]
  },
  {
   "cell_type": "markdown",
   "metadata": {},
   "source": [
    "##### For 5 day returns"
   ]
  },
  {
   "cell_type": "code",
   "execution_count": null,
   "metadata": {
    "execution": {
     "iopub.execute_input": "2021-08-25T06:21:06.484273Z",
     "iopub.status.busy": "2021-08-25T06:21:06.48369Z",
     "iopub.status.idle": "2021-08-25T06:21:06.989016Z",
     "shell.execute_reply": "2021-08-25T06:21:06.988256Z",
     "shell.execute_reply.started": "2021-08-25T06:21:06.484238Z"
    }
   },
   "outputs": [],
   "source": [
    "lag = 15\n",
    "data_sbin.reset_index(inplace=True)\n",
    "list_ = data_sbin.index[data_sbin['is_return_high_d-5'] ==1]\n",
    "subset_high_d5 = []\n",
    "plt.figure(figsize=(22,8))\n",
    "for i in range(len(list_)):\n",
    "    subset_high_d5.append(data_sbin[list_[i]:list_[i]+lag].copy())\n",
    "    subset_high_d5[i]['Close Price'].plot(label = \"Close Price \"+str(i)) \n",
    "data_sbin.set_index(['Date'],inplace=True)\n",
    "plt.legend()\n",
    "plt.title(\"Close price vs date when return is higher than 10% for 5 day return\")\n",
    "plt.show()"
   ]
  },
  {
   "cell_type": "code",
   "execution_count": null,
   "metadata": {
    "execution": {
     "iopub.execute_input": "2021-08-25T06:21:06.990693Z",
     "iopub.status.busy": "2021-08-25T06:21:06.990275Z",
     "iopub.status.idle": "2021-08-25T06:21:07.463883Z",
     "shell.execute_reply": "2021-08-25T06:21:07.463143Z",
     "shell.execute_reply.started": "2021-08-25T06:21:06.990662Z"
    }
   },
   "outputs": [],
   "source": [
    "lag = 15\n",
    "data_sbin.reset_index(inplace=True)\n",
    "list_ = data_sbin.index[data_sbin['is_return_low_d-5'] ==1]\n",
    "subset_low_d5 = []\n",
    "plt.figure(figsize=(22,8))\n",
    "for i in range(len(list_)):\n",
    "    subset_low_d5.append(data_sbin[list_[i]:list_[i]+lag].copy())\n",
    "    subset_low_d5[i]['Close Price'].plot(label = \"Close Price \"+str(i)) \n",
    "data_sbin.set_index(['Date'],inplace=True)\n",
    "plt.legend()\n",
    "plt.title(\"Close price vs date when return is lower than 10% for 5 day return\")\n",
    "plt.show()"
   ]
  },
  {
   "cell_type": "markdown",
   "metadata": {},
   "source": [
    "#### Calculating correlation for all the cases of high and low returns"
   ]
  },
  {
   "cell_type": "code",
   "execution_count": null,
   "metadata": {
    "execution": {
     "iopub.execute_input": "2021-08-25T06:21:09.299503Z",
     "iopub.status.busy": "2021-08-25T06:21:09.298942Z",
     "iopub.status.idle": "2021-08-25T06:21:09.303515Z",
     "shell.execute_reply": "2021-08-25T06:21:09.302381Z",
     "shell.execute_reply.started": "2021-08-25T06:21:09.299468Z"
    }
   },
   "outputs": [],
   "source": [
    "from statsmodels.tsa.stattools import ccf\n",
    "from scipy.stats import pearsonr"
   ]
  },
  {
   "cell_type": "markdown",
   "metadata": {},
   "source": [
    "##### For 1 day returns"
   ]
  },
  {
   "cell_type": "code",
   "execution_count": null,
   "metadata": {
    "execution": {
     "iopub.execute_input": "2021-08-25T06:21:09.737794Z",
     "iopub.status.busy": "2021-08-25T06:21:09.737393Z",
     "iopub.status.idle": "2021-08-25T06:21:10.237685Z",
     "shell.execute_reply": "2021-08-25T06:21:10.236648Z",
     "shell.execute_reply.started": "2021-08-25T06:21:09.737764Z"
    }
   },
   "outputs": [],
   "source": [
    "ccf_high_d1 = []\n",
    "for i in range(len(subset_high_d1)):\n",
    "    ccf_ = []\n",
    "    for j in range(len(subset_high_d1)):\n",
    "        ccf_.append(ccf(subset_high_d1[i]['Close Price'],subset_high_d1[j]['Close Price'])[0])\n",
    "    ccf_high_d1.append(ccf_)\n",
    "sns.heatmap(ccf_high_d1,annot=True,cmap=\"YlGnBu\") \n",
    "plt.title(\"Correlation for graphs for 1 day returns higher than 5%\")\n",
    "plt.show()"
   ]
  },
  {
   "cell_type": "markdown",
   "metadata": {},
   "source": [
    "For most of the value correlation is >5 which indicates that there is strong relationship between the graphs and it can be implied similar features in past data exhibit similar behaviours in future"
   ]
  },
  {
   "cell_type": "code",
   "execution_count": null,
   "metadata": {
    "execution": {
     "iopub.execute_input": "2021-08-25T06:21:11.626842Z",
     "iopub.status.busy": "2021-08-25T06:21:11.626463Z",
     "iopub.status.idle": "2021-08-25T06:21:11.89283Z",
     "shell.execute_reply": "2021-08-25T06:21:11.891924Z",
     "shell.execute_reply.started": "2021-08-25T06:21:11.626811Z"
    }
   },
   "outputs": [],
   "source": [
    "ccf_low_d1 = []\n",
    "for i in range(len(subset_low_d1)):\n",
    "    ccf_ = []\n",
    "    for j in range(len(subset_low_d1)):\n",
    "        ccf_.append(ccf(subset_low_d1[i]['Close Price'],subset_low_d1[j]['Close Price'])[0])\n",
    "    ccf_low_d1.append(ccf_)\n",
    "sns.heatmap(ccf_low_d1,annot=True,cmap=\"YlGnBu\")  \n",
    "plt.title(\"Correlation for graphs for 1 day returns lower than 5%\")\n",
    "plt.show()"
   ]
  },
  {
   "cell_type": "markdown",
   "metadata": {},
   "source": [
    "For this case the graphs are not higly correlated"
   ]
  },
  {
   "cell_type": "markdown",
   "metadata": {},
   "source": [
    "##### For 2 day returns"
   ]
  },
  {
   "cell_type": "code",
   "execution_count": null,
   "metadata": {
    "execution": {
     "iopub.execute_input": "2021-08-25T06:21:12.170899Z",
     "iopub.status.busy": "2021-08-25T06:21:12.170263Z",
     "iopub.status.idle": "2021-08-25T06:21:12.60423Z",
     "shell.execute_reply": "2021-08-25T06:21:12.603247Z",
     "shell.execute_reply.started": "2021-08-25T06:21:12.17085Z"
    }
   },
   "outputs": [],
   "source": [
    "ccf_high_d2 = []\n",
    "for i in range(len(subset_high_d2)):\n",
    "    ccf_ = []\n",
    "    for j in range(len(subset_high_d2)):\n",
    "        ccf_.append(ccf(subset_high_d2[i]['Close Price'],subset_high_d2[j]['Close Price'])[0])\n",
    "    ccf_high_d2.append(ccf_)\n",
    "sns.heatmap(ccf_high_d2,annot=True,cmap=\"YlGnBu\")  \n",
    "plt.title(\"Correlation for graphs for 2 day returns higher than 7.5%\")\n",
    "plt.show()"
   ]
  },
  {
   "cell_type": "markdown",
   "metadata": {},
   "source": [
    "Most of the graphs have correlation > +/-0.5. The negative correlation implies reverse trend but wit similar momentum is present."
   ]
  },
  {
   "cell_type": "code",
   "execution_count": null,
   "metadata": {
    "execution": {
     "iopub.execute_input": "2021-08-25T06:21:14.335018Z",
     "iopub.status.busy": "2021-08-25T06:21:14.334488Z",
     "iopub.status.idle": "2021-08-25T06:21:15.074446Z",
     "shell.execute_reply": "2021-08-25T06:21:15.073431Z",
     "shell.execute_reply.started": "2021-08-25T06:21:14.334971Z"
    }
   },
   "outputs": [],
   "source": [
    "ccf_low_d2 = []\n",
    "for i in range(len(subset_low_d2)):\n",
    "    ccf_ = []\n",
    "    for j in range(len(subset_low_d2)):\n",
    "        ccf_.append(ccf(subset_low_d2[i]['Close Price'],subset_low_d2[j]['Close Price'])[0])\n",
    "    ccf_low_d2.append(ccf_)\n",
    "sns.heatmap(ccf_low_d2,annot=True,cmap=\"YlGnBu\")\n",
    "plt.title(\"Correlation for graphs for 2 day returns lower than 7.5%\")\n",
    "plt.show()"
   ]
  },
  {
   "cell_type": "markdown",
   "metadata": {},
   "source": [
    "Only a few graphs are correlated, most of the graphs have low correlation values."
   ]
  },
  {
   "cell_type": "markdown",
   "metadata": {},
   "source": [
    "##### For 3 day returns"
   ]
  },
  {
   "cell_type": "code",
   "execution_count": null,
   "metadata": {
    "execution": {
     "iopub.execute_input": "2021-08-25T06:21:16.184554Z",
     "iopub.status.busy": "2021-08-25T06:21:16.183932Z",
     "iopub.status.idle": "2021-08-25T06:21:16.469407Z",
     "shell.execute_reply": "2021-08-25T06:21:16.468392Z",
     "shell.execute_reply.started": "2021-08-25T06:21:16.184502Z"
    }
   },
   "outputs": [],
   "source": [
    "ccf_high_d3 = []\n",
    "for i in range(len(subset_high_d3)):\n",
    "    ccf_ = []\n",
    "    for j in range(len(subset_high_d3)):\n",
    "        ccf_.append(ccf(subset_high_d3[i]['Close Price'],subset_high_d3[j]['Close Price'])[0])\n",
    "    ccf_high_d3.append(ccf_)\n",
    "sns.heatmap(ccf_high_d3,annot=True,cmap=\"YlGnBu\") \n",
    "plt.title(\"Correlation for graphs for 3 day returns higher than 10%\")\n",
    "plt.show()"
   ]
  },
  {
   "cell_type": "markdown",
   "metadata": {},
   "source": [
    "The graphs have correlation > +/- 0.5"
   ]
  },
  {
   "cell_type": "code",
   "execution_count": null,
   "metadata": {
    "execution": {
     "iopub.execute_input": "2021-08-25T06:21:18.006802Z",
     "iopub.status.busy": "2021-08-25T06:21:18.006181Z",
     "iopub.status.idle": "2021-08-25T06:21:18.297985Z",
     "shell.execute_reply": "2021-08-25T06:21:18.296878Z",
     "shell.execute_reply.started": "2021-08-25T06:21:18.006751Z"
    }
   },
   "outputs": [],
   "source": [
    "ccf_low_d3 = []\n",
    "for i in range(len(subset_low_d3)):\n",
    "    ccf_ = []\n",
    "    for j in range(len(subset_low_d3)):\n",
    "        ccf_.append(ccf(subset_low_d3[i]['Close Price'],subset_low_d3[j]['Close Price'])[0])\n",
    "    ccf_low_d3.append(ccf_)\n",
    "sns.heatmap(ccf_low_d3,annot=True,cmap=\"YlGnBu\")  \n",
    "plt.title(\"Correlation for graphs for 3 day returns lower than 10%\")\n",
    "plt.show()"
   ]
  },
  {
   "cell_type": "markdown",
   "metadata": {},
   "source": [
    "Most of the graphs are not significantly correlated."
   ]
  },
  {
   "cell_type": "markdown",
   "metadata": {},
   "source": [
    "##### For 4 day returns"
   ]
  },
  {
   "cell_type": "code",
   "execution_count": null,
   "metadata": {
    "execution": {
     "iopub.execute_input": "2021-08-25T06:21:21.912402Z",
     "iopub.status.busy": "2021-08-25T06:21:21.911715Z",
     "iopub.status.idle": "2021-08-25T06:21:22.515203Z",
     "shell.execute_reply": "2021-08-25T06:21:22.514183Z",
     "shell.execute_reply.started": "2021-08-25T06:21:21.912339Z"
    }
   },
   "outputs": [],
   "source": [
    "ccf_high_d4 = []\n",
    "for i in range(len(subset_high_d4)):\n",
    "    ccf_ = []\n",
    "    for j in range(len(subset_high_d4)):\n",
    "        ccf_.append(ccf(subset_high_d4[i]['Close Price'],subset_high_d4[j]['Close Price'])[0])\n",
    "    ccf_high_d4.append(ccf_)\n",
    "sns.heatmap(ccf_high_d4,annot=True,cmap=\"YlGnBu\")  \n",
    "plt.title(\"Correlation for graphs for 4 day returns higher than 10%\")\n",
    "plt.show()"
   ]
  },
  {
   "cell_type": "markdown",
   "metadata": {},
   "source": [
    "Few graphs are highly correlated while few are not."
   ]
  },
  {
   "cell_type": "code",
   "execution_count": null,
   "metadata": {
    "execution": {
     "iopub.execute_input": "2021-08-25T06:21:23.507869Z",
     "iopub.status.busy": "2021-08-25T06:21:23.507197Z",
     "iopub.status.idle": "2021-08-25T06:21:24.156271Z",
     "shell.execute_reply": "2021-08-25T06:21:24.15532Z",
     "shell.execute_reply.started": "2021-08-25T06:21:23.507822Z"
    }
   },
   "outputs": [],
   "source": [
    "ccf_low_d4 = []\n",
    "for i in range(len(subset_low_d4)):\n",
    "    ccf_ = []\n",
    "    for j in range(len(subset_low_d4)):\n",
    "        ccf_.append(ccf(subset_low_d4[i]['Close Price'],subset_low_d4[j]['Close Price'])[0])\n",
    "    ccf_low_d4.append(ccf_)\n",
    "sns.heatmap(ccf_low_d4,annot=True,cmap=\"YlGnBu\")  \n",
    "plt.title(\"Correlation for graphs for 4 day returns lower than 10%\")\n",
    "plt.show()"
   ]
  },
  {
   "cell_type": "markdown",
   "metadata": {},
   "source": [
    "Only a few graphs are highly correlated while most are not."
   ]
  },
  {
   "cell_type": "markdown",
   "metadata": {},
   "source": [
    "##### For 5 day returns"
   ]
  },
  {
   "cell_type": "code",
   "execution_count": null,
   "metadata": {
    "execution": {
     "iopub.execute_input": "2021-08-25T06:21:27.347539Z",
     "iopub.status.busy": "2021-08-25T06:21:27.346911Z",
     "iopub.status.idle": "2021-08-25T06:21:28.880567Z",
     "shell.execute_reply": "2021-08-25T06:21:28.879332Z",
     "shell.execute_reply.started": "2021-08-25T06:21:27.347492Z"
    }
   },
   "outputs": [],
   "source": [
    "ccf_high_d5 = []\n",
    "for i in range(len(subset_high_d5)):\n",
    "    ccf_ = []\n",
    "    for j in range(len(subset_high_d5)):\n",
    "        ccf_.append(ccf(subset_high_d5[i]['Close Price'],subset_high_d5[j]['Close Price'])[0])\n",
    "    ccf_high_d5.append(ccf_)\n",
    "plt.figure(figsize=(14,6))\n",
    "sns.heatmap(ccf_high_d5,annot=True,cmap=\"YlGnBu\")  \n",
    "plt.title(\"Correlation for graphs for 5 day returns higher than 10%\")\n",
    "plt.show()"
   ]
  },
  {
   "cell_type": "markdown",
   "metadata": {},
   "source": [
    "The graphs seem to be both positively and negatively correlated."
   ]
  },
  {
   "cell_type": "code",
   "execution_count": null,
   "metadata": {
    "execution": {
     "iopub.execute_input": "2021-08-25T06:21:28.882415Z",
     "iopub.status.busy": "2021-08-25T06:21:28.882083Z",
     "iopub.status.idle": "2021-08-25T06:21:30.406891Z",
     "shell.execute_reply": "2021-08-25T06:21:30.405524Z",
     "shell.execute_reply.started": "2021-08-25T06:21:28.882385Z"
    }
   },
   "outputs": [],
   "source": [
    "ccf_low_d5 = []\n",
    "for i in range(len(subset_low_d5)):\n",
    "    ccf_ = []\n",
    "    for j in range(len(subset_low_d5)):\n",
    "        ccf_.append(ccf(subset_low_d5[i]['Close Price'],subset_low_d5[j]['Close Price'])[0])\n",
    "    ccf_low_d5.append(ccf_)\n",
    "plt.figure(figsize=(14,6))\n",
    "sns.heatmap(ccf_low_d5,annot=True,cmap=\"YlGnBu\")  \n",
    "plt.title(\"Correlation for graphs for 5 day returns lower than 10%\")\n",
    "plt.show()"
   ]
  },
  {
   "cell_type": "markdown",
   "metadata": {},
   "source": [
    "Most of the graphs are significantly correlated."
   ]
  },
  {
   "cell_type": "markdown",
   "metadata": {},
   "source": [
    "# 6. Analysing Data Near Events of SBIN Stock"
   ]
  },
  {
   "cell_type": "markdown",
   "metadata": {},
   "source": [
    "Event Dates are taken from the SBI official website.\n",
    "https://www.sbigroup.co.jp/english/investors/calendar/ and https://www.bseindia.com/corporates/corporates_act.html?scripcode=500112&scripname=STATE%20BANK%20OF%20INDIA\n"
   ]
  },
  {
   "cell_type": "code",
   "execution_count": null,
   "metadata": {
    "execution": {
     "iopub.execute_input": "2021-08-25T06:22:43.241189Z",
     "iopub.status.busy": "2021-08-25T06:22:43.240805Z",
     "iopub.status.idle": "2021-08-25T06:22:43.257623Z",
     "shell.execute_reply": "2021-08-25T06:22:43.256381Z",
     "shell.execute_reply.started": "2021-08-25T06:22:43.241155Z"
    }
   },
   "outputs": [],
   "source": [
    "sbin_eventdates = pd.read_csv(\"../input/sbin-eventdates/sbi_eventdates.csv\", index_col='Date', parse_dates=['Date'])"
   ]
  },
  {
   "cell_type": "code",
   "execution_count": null,
   "metadata": {
    "execution": {
     "iopub.execute_input": "2021-08-25T06:22:45.924611Z",
     "iopub.status.busy": "2021-08-25T06:22:45.924045Z",
     "iopub.status.idle": "2021-08-25T06:22:45.930846Z",
     "shell.execute_reply": "2021-08-25T06:22:45.929791Z",
     "shell.execute_reply.started": "2021-08-25T06:22:45.924574Z"
    }
   },
   "outputs": [],
   "source": [
    "sbin_eventdates.shape"
   ]
  },
  {
   "cell_type": "code",
   "execution_count": null,
   "metadata": {
    "execution": {
     "iopub.execute_input": "2021-08-25T06:22:47.119311Z",
     "iopub.status.busy": "2021-08-25T06:22:47.118853Z",
     "iopub.status.idle": "2021-08-25T06:22:47.136625Z",
     "shell.execute_reply": "2021-08-25T06:22:47.135282Z",
     "shell.execute_reply.started": "2021-08-25T06:22:47.119278Z"
    }
   },
   "outputs": [],
   "source": [
    "sbin_eventdates"
   ]
  },
  {
   "cell_type": "code",
   "execution_count": null,
   "metadata": {
    "execution": {
     "iopub.execute_input": "2021-08-25T06:22:54.449Z",
     "iopub.status.busy": "2021-08-25T06:22:54.448596Z",
     "iopub.status.idle": "2021-08-25T06:22:54.459594Z",
     "shell.execute_reply": "2021-08-25T06:22:54.458439Z",
     "shell.execute_reply.started": "2021-08-25T06:22:54.448964Z"
    }
   },
   "outputs": [],
   "source": [
    "data_sbin.reset_index(inplace=True)\n",
    "sbin_eventdates.reset_index(inplace=True)\n",
    "eventdates = sbin_eventdates[sbin_eventdates['Date'].isin(data_sbin['Date'])]['Date']\n",
    "data_sbin.set_index(['Date'],inplace=True)"
   ]
  },
  {
   "cell_type": "code",
   "execution_count": null,
   "metadata": {
    "execution": {
     "iopub.execute_input": "2021-08-25T06:22:56.616423Z",
     "iopub.status.busy": "2021-08-25T06:22:56.615988Z",
     "iopub.status.idle": "2021-08-25T06:22:56.625569Z",
     "shell.execute_reply": "2021-08-25T06:22:56.624598Z",
     "shell.execute_reply.started": "2021-08-25T06:22:56.616387Z"
    }
   },
   "outputs": [],
   "source": [
    "data_sbin['is_event'] = 0\n",
    "data_sbin['is_event'] = data_sbin['is_event'].astype('int8')\n",
    "for i in eventdates:\n",
    "    data_sbin.at[i, \"is_event\"] = 1"
   ]
  },
  {
   "cell_type": "code",
   "execution_count": null,
   "metadata": {
    "execution": {
     "iopub.execute_input": "2021-08-25T06:22:58.635607Z",
     "iopub.status.busy": "2021-08-25T06:22:58.635021Z",
     "iopub.status.idle": "2021-08-25T06:22:58.65191Z",
     "shell.execute_reply": "2021-08-25T06:22:58.65064Z",
     "shell.execute_reply.started": "2021-08-25T06:22:58.635571Z"
    }
   },
   "outputs": [],
   "source": [
    "sbin_eventdates.insert(0, \"Id\", range(1,1+len(sbin_eventdates)))\n",
    "\n",
    "data_sbin = data_sbin.merge(sbin_eventdates[['Id']], how='left',left_index=True, right_index=True)"
   ]
  },
  {
   "cell_type": "code",
   "execution_count": null,
   "metadata": {
    "execution": {
     "iopub.execute_input": "2021-08-25T06:23:01.568489Z",
     "iopub.status.busy": "2021-08-25T06:23:01.568087Z",
     "iopub.status.idle": "2021-08-25T06:23:02.256601Z",
     "shell.execute_reply": "2021-08-25T06:23:02.255188Z",
     "shell.execute_reply.started": "2021-08-25T06:23:01.568458Z"
    }
   },
   "outputs": [],
   "source": [
    "lag = 15\n",
    "data_sbin.reset_index(inplace=True)\n",
    "list_ = data_sbin.index[data_sbin['is_event'] ==1]\n",
    "subset_event_1 = []\n",
    "subset_event_2 = []\n",
    "plt.figure(figsize=(22,8))\n",
    "\n",
    "for i in range(len(list_)):\n",
    "    subset_event_1.append(data_sbin[list_[i]-lag:list_[i]+lag].copy())\n",
    "    subset_event_1[i].set_index(['Date'],inplace=True)\n",
    "    subset_event_1[i]['Close Price'].plot(label = \"Close Price \"+str(i)) \n",
    "    plt.plot(subset_event_1[i][subset_event_1[i]['is_event'] == 1]['Close Price'],marker='o', color='r',linewidth=0,label=\"event day\")\n",
    "data_sbin.set_index(['Date'],inplace=True)\n",
    "plt.plot(data_sbin['Close Price'],\"--\")\n",
    "plt.title(\"Close price vs date when \"+str(lag)+\" days before and after the event\")\n",
    "plt.show()"
   ]
  },
  {
   "cell_type": "markdown",
   "metadata": {},
   "source": [
    "It can be observed that near most of the events, the stock price fluctuation is significant."
   ]
  },
  {
   "cell_type": "markdown",
   "metadata": {},
   "source": [
    "# 7. Analysis of SBIN with its peers"
   ]
  },
  {
   "cell_type": "markdown",
   "metadata": {},
   "source": [
    "Data for SBIN is extracted from https://www.bseindia.com/markets/equity/EQReports/StockPrcHistori.aspx?flag=0 For period Jan,2011 to Dec,2012"
   ]
  },
  {
   "cell_type": "markdown",
   "metadata": {},
   "source": [
    "As discussed earlier while anlysing outlier with 27% returns, The peers are considered to account for any news or events wihich may result in a huge increse or decrease in the entire sector or the sector index itself.\n",
    "\n",
    "The peers are found after studying ratios such as Operating Profit Margin(OPM), Net Profit Margin(NPM), Earning per Share(EPS), Cash Earnings Per Share (CEPS), price-earnings(P/E) and share holding patterns.\n",
    "\n",
    "Sensex Bank Index(bankex) is consider to account for entire banking sector.\n",
    "\n",
    "**TATA STEEL is considered to check the correlation of SBIN with a random stock to which it shoould not be related much**"
   ]
  },
  {
   "cell_type": "markdown",
   "metadata": {},
   "source": [
    "The data is take for the years 2011-2012 from BSE website"
   ]
  },
  {
   "cell_type": "code",
   "execution_count": null,
   "metadata": {
    "execution": {
     "iopub.execute_input": "2021-08-25T06:31:28.237982Z",
     "iopub.status.busy": "2021-08-25T06:31:28.23755Z",
     "iopub.status.idle": "2021-08-25T06:31:28.513985Z",
     "shell.execute_reply": "2021-08-25T06:31:28.512639Z",
     "shell.execute_reply.started": "2021-08-25T06:31:28.237948Z"
    }
   },
   "outputs": [],
   "source": [
    "bankex = pd.read_csv(\"../input/sbin-peers/bankex_jan11todec12.csv\",index_col='Date', parse_dates=['Date'])\n",
    "hdfc = pd.read_csv(\"../input/sbin-peers/hdfc_jan11todec12.csv\",index_col='Date', parse_dates=['Date'])\n",
    "icici = pd.read_csv(\"../input/sbin-peers/icici_jan11todec12.csv\",index_col='Date', parse_dates=['Date'])\n",
    "pnb = pd.read_csv(\"../input/sbin-peers/pnb_jan11todec12.csv\",index_col='Date', parse_dates=['Date'])\n",
    "tatasteel = pd.read_csv(\"../input/sbin-peers/tatasteel_jan11todec12.csv\",index_col='Date', parse_dates=['Date'])\n",
    "\n",
    "tatasteel = tatasteel.sort_index()\n",
    "bankex = bankex.sort_index()\n",
    "hdfc = hdfc.sort_index()\n",
    "icici = icici.sort_index()\n",
    "pnb = pnb.sort_index()"
   ]
  },
  {
   "cell_type": "code",
   "execution_count": null,
   "metadata": {
    "execution": {
     "iopub.execute_input": "2021-08-25T06:31:31.024756Z",
     "iopub.status.busy": "2021-08-25T06:31:31.024341Z",
     "iopub.status.idle": "2021-08-25T06:31:31.394963Z",
     "shell.execute_reply": "2021-08-25T06:31:31.393848Z",
     "shell.execute_reply.started": "2021-08-25T06:31:31.024722Z"
    }
   },
   "outputs": [],
   "source": [
    "plt.figure(figsize=(22,8))\n",
    "data_sbin['Close Price'].plot(label = \"SBIN\")\n",
    "hdfc['Close Price'].plot(label = \"HDFC\")\n",
    "icici['Close Price'].plot(label = \"ICICI\")\n",
    "pnb['Close Price'].plot(label = \"PNB\")\n",
    "plt.legend()\n",
    "plt.ylabel(\"Close Price\")\n",
    "plt.title(\"SBIN and Peers Close Price\")\n",
    "plt.show()"
   ]
  },
  {
   "cell_type": "markdown",
   "metadata": {},
   "source": [
    "Accounting for share splits after verifying details from moneycontrol.com"
   ]
  },
  {
   "cell_type": "code",
   "execution_count": null,
   "metadata": {
    "execution": {
     "iopub.execute_input": "2021-08-25T06:31:35.865589Z",
     "iopub.status.busy": "2021-08-25T06:31:35.865195Z",
     "iopub.status.idle": "2021-08-25T06:31:35.876138Z",
     "shell.execute_reply": "2021-08-25T06:31:35.875079Z",
     "shell.execute_reply.started": "2021-08-25T06:31:35.865556Z"
    }
   },
   "outputs": [],
   "source": [
    "hdfc['Close Price'][:\"2011-07-13\"] = hdfc['Close Price'][:\"2011-07-13\"]/5\n",
    "hdfc['Close Price'] = hdfc['Close Price']/2"
   ]
  },
  {
   "cell_type": "code",
   "execution_count": null,
   "metadata": {
    "execution": {
     "iopub.execute_input": "2021-08-25T06:31:36.492854Z",
     "iopub.status.busy": "2021-08-25T06:31:36.492454Z",
     "iopub.status.idle": "2021-08-25T06:31:36.502154Z",
     "shell.execute_reply": "2021-08-25T06:31:36.50143Z",
     "shell.execute_reply.started": "2021-08-25T06:31:36.492821Z"
    }
   },
   "outputs": [],
   "source": [
    "print(hdfc['Close Price'][\"2011-07-13\":\"2011-07-14\"])\n",
    "print(hdfc['Close Price'][\"2012-12-21\"])"
   ]
  },
  {
   "cell_type": "code",
   "execution_count": null,
   "metadata": {
    "execution": {
     "iopub.execute_input": "2021-08-25T06:31:38.373052Z",
     "iopub.status.busy": "2021-08-25T06:31:38.372342Z",
     "iopub.status.idle": "2021-08-25T06:31:38.379172Z",
     "shell.execute_reply": "2021-08-25T06:31:38.378287Z",
     "shell.execute_reply.started": "2021-08-25T06:31:38.372985Z"
    }
   },
   "outputs": [],
   "source": [
    "icici['Close Price'] = icici['Close Price']/5 # split on 04 dec 2014\n",
    "pnb['Close Price'] = pnb['Close Price']/5 # splot in 18 dec 2014"
   ]
  },
  {
   "cell_type": "code",
   "execution_count": null,
   "metadata": {
    "execution": {
     "iopub.execute_input": "2021-08-25T06:31:40.369344Z",
     "iopub.status.busy": "2021-08-25T06:31:40.368839Z",
     "iopub.status.idle": "2021-08-25T06:31:40.728452Z",
     "shell.execute_reply": "2021-08-25T06:31:40.727427Z",
     "shell.execute_reply.started": "2021-08-25T06:31:40.369303Z"
    }
   },
   "outputs": [],
   "source": [
    "plt.figure(figsize=(22,8))\n",
    "data_sbin['Close Price'].plot(label = \"SBIN\")\n",
    "hdfc['Close Price'].plot(label = \"HDFC\")\n",
    "icici['Close Price'].plot(label = \"ICICI\")\n",
    "pnb['Close Price'].plot(label = \"PNB\")\n",
    "plt.legend()\n",
    "plt.ylabel(\"Close Price\")\n",
    "plt.title(\"SBIN and Peers Close Price\")\n",
    "plt.show()"
   ]
  },
  {
   "cell_type": "markdown",
   "metadata": {},
   "source": [
    "The price of PNB and ICICI look more related to SBIN than HDFC. Although the mean of all stocks is different, it can be seen all follow similar trend/patterns"
   ]
  },
  {
   "cell_type": "code",
   "execution_count": null,
   "metadata": {
    "execution": {
     "iopub.execute_input": "2021-08-25T06:31:44.774901Z",
     "iopub.status.busy": "2021-08-25T06:31:44.774546Z",
     "iopub.status.idle": "2021-08-25T06:31:45.088515Z",
     "shell.execute_reply": "2021-08-25T06:31:45.087137Z",
     "shell.execute_reply.started": "2021-08-25T06:31:44.774871Z"
    }
   },
   "outputs": [],
   "source": [
    "plt.figure(figsize=(22,8))\n",
    "data_sbin['Close Price'].plot(label = \"SBIN\")\n",
    "tatasteel['Close Price'].plot(label = \"TATA STEEL\")\n",
    "# icici['Close Price'].plot(label = \"ICICI\")\n",
    "# pnb['Close Price'].plot(label = \"PNB\")\n",
    "plt.legend()\n",
    "plt.ylabel(\"Close Price\")\n",
    "plt.title(\"SBIN and TATA STEEL Close Price\")\n",
    "plt.show()"
   ]
  },
  {
   "cell_type": "markdown",
   "metadata": {},
   "source": [
    "Concatenating close price of all stocks to obtain correlation "
   ]
  },
  {
   "cell_type": "code",
   "execution_count": null,
   "metadata": {
    "execution": {
     "iopub.execute_input": "2021-08-25T06:31:48.168298Z",
     "iopub.status.busy": "2021-08-25T06:31:48.167941Z",
     "iopub.status.idle": "2021-08-25T06:31:48.177745Z",
     "shell.execute_reply": "2021-08-25T06:31:48.176297Z",
     "shell.execute_reply.started": "2021-08-25T06:31:48.168268Z"
    }
   },
   "outputs": [],
   "source": [
    "# Reference: https://stackoverflow.com/questions/21231834/creating-a-pandas-dataframe-from-columns-of-other-dataframes-with-similar-indexe\n",
    "peers_close_data = pd.concat([data_sbin['Close Price'], hdfc['Close Price'], icici['Close Price'],pnb['Close Price'],bankex['Close'], tatasteel['Close Price']]\n",
    "              ,axis=1, keys=['sbin','hdfc','icici','pnb','bankex','tatasteel'])"
   ]
  },
  {
   "cell_type": "code",
   "execution_count": null,
   "metadata": {
    "execution": {
     "iopub.execute_input": "2021-08-25T06:31:50.030708Z",
     "iopub.status.busy": "2021-08-25T06:31:50.030293Z",
     "iopub.status.idle": "2021-08-25T06:31:56.94323Z",
     "shell.execute_reply": "2021-08-25T06:31:56.941806Z",
     "shell.execute_reply.started": "2021-08-25T06:31:50.030676Z"
    }
   },
   "outputs": [],
   "source": [
    "sns.pairplot(peers_close_data)\n",
    "plt.title(\"Pairplot of Close Price of SBIN and its peers\")\n",
    "plt.show()"
   ]
  },
  {
   "cell_type": "code",
   "execution_count": null,
   "metadata": {
    "execution": {
     "iopub.execute_input": "2021-08-25T06:32:27.211945Z",
     "iopub.status.busy": "2021-08-25T06:32:27.211529Z",
     "iopub.status.idle": "2021-08-25T06:32:27.65236Z",
     "shell.execute_reply": "2021-08-25T06:32:27.650981Z",
     "shell.execute_reply.started": "2021-08-25T06:32:27.211908Z"
    }
   },
   "outputs": [],
   "source": [
    "# Reference: https://www.kaggle.com/faressayah/stock-market-analysis-prediction-using-lstm/notebook\n",
    "sns.heatmap(peers_close_data.corr(), annot=True)\n",
    "plt.title(\"Correlation of Close Price of SBIN and its peers\")\n",
    "plt.show()"
   ]
  },
  {
   "cell_type": "markdown",
   "metadata": {},
   "source": [
    "The SBIN close price is significantly correlated with bankex(sensex bank index), icici and pnb stocks.\n",
    "\n",
    "A very high corrlation with tata steel is observed which implies that correlation does not imply causation and such random behaviours can be easily found due to dependence of stock market on a lot of variables.\n",
    "\n",
    "Also Close price is not providing much useful information with reagards to correlation, so we can analyse returns which would be much useful as it will be normalise measure."
   ]
  },
  {
   "cell_type": "markdown",
   "metadata": {},
   "source": [
    "#### Analysis of peers data on Returns"
   ]
  },
  {
   "cell_type": "code",
   "execution_count": null,
   "metadata": {
    "execution": {
     "iopub.execute_input": "2021-08-25T06:32:34.941443Z",
     "iopub.status.busy": "2021-08-25T06:32:34.940971Z",
     "iopub.status.idle": "2021-08-25T06:32:34.960933Z",
     "shell.execute_reply": "2021-08-25T06:32:34.959663Z",
     "shell.execute_reply.started": "2021-08-25T06:32:34.941395Z"
    }
   },
   "outputs": [],
   "source": [
    "# Reference: https://www.kaggle.com/faressayah/stock-market-analysis-prediction-using-lstm/notebook\n",
    "peers_returns = peers_close_data.pct_change()\n",
    "peers_returns.head()"
   ]
  },
  {
   "cell_type": "code",
   "execution_count": null,
   "metadata": {
    "execution": {
     "iopub.execute_input": "2021-08-25T06:32:41.929121Z",
     "iopub.status.busy": "2021-08-25T06:32:41.928677Z",
     "iopub.status.idle": "2021-08-25T06:32:48.970483Z",
     "shell.execute_reply": "2021-08-25T06:32:48.969152Z",
     "shell.execute_reply.started": "2021-08-25T06:32:41.929086Z"
    }
   },
   "outputs": [],
   "source": [
    "sns.pairplot(peers_returns)\n",
    "plt.title(\"Pairplot of Returns of SBIN and its peers\")\n",
    "plt.show()"
   ]
  },
  {
   "cell_type": "code",
   "execution_count": null,
   "metadata": {
    "execution": {
     "iopub.execute_input": "2021-08-25T06:32:50.191261Z",
     "iopub.status.busy": "2021-08-25T06:32:50.190868Z",
     "iopub.status.idle": "2021-08-25T06:32:50.59449Z",
     "shell.execute_reply": "2021-08-25T06:32:50.59331Z",
     "shell.execute_reply.started": "2021-08-25T06:32:50.19123Z"
    }
   },
   "outputs": [],
   "source": [
    "sns.heatmap(peers_returns.corr(), annot=True)\n",
    "plt.title(\"Correlation of Returns of SBIN and its peers\")\n",
    "plt.show()"
   ]
  },
  {
   "cell_type": "markdown",
   "metadata": {},
   "source": [
    "For Returns, the correlation of SBIN with TATA STEEL is less.\n",
    "\n",
    "The correlation with bankex is highest and with pnb and icici is more significant than hdfc."
   ]
  },
  {
   "cell_type": "markdown",
   "metadata": {},
   "source": [
    "Returns seem to be a better measure to consider when accounting for peers data."
   ]
  },
  {
   "cell_type": "markdown",
   "metadata": {},
   "source": [
    "________________"
   ]
  },
  {
   "cell_type": "markdown",
   "metadata": {},
   "source": [
    "### Analysing Volume Vs Close Price"
   ]
  },
  {
   "cell_type": "markdown",
   "metadata": {},
   "source": [
    "Volume is an important factor considered in various tehnical indicators for understanding the stock movement, Here graph of volume and close price are plooted together to understand the variation of close price w.r.t No of shares traded i.e. volume."
   ]
  },
  {
   "cell_type": "code",
   "execution_count": null,
   "metadata": {
    "execution": {
     "iopub.execute_input": "2021-08-25T06:35:44.378563Z",
     "iopub.status.busy": "2021-08-25T06:35:44.3781Z",
     "iopub.status.idle": "2021-08-25T06:35:44.915712Z",
     "shell.execute_reply": "2021-08-25T06:35:44.914448Z",
     "shell.execute_reply.started": "2021-08-25T06:35:44.378527Z"
    }
   },
   "outputs": [],
   "source": [
    "fig, ax1 = plt.subplots(figsize=(22,8))\n",
    "ax2 = ax1.twinx()\n",
    "sns.lineplot(x=data_sbin.index,y=data_sbin['Close Price']\n",
    "         ,color='#004488'\n",
    "         ,ax=ax1)\n",
    "sns.lineplot(x=data_sbin.index,y=data_sbin['Volume'],\n",
    "             color='r',\n",
    "             ax=ax2)\n",
    "ax1.legend(['Close'],loc=1)\n",
    "ax2.legend(['Volume'],loc=4)\n",
    "plt.title(\"Plot of Close Price and Volume(No. of Shares Traded/day)\")\n",
    "plt.show()"
   ]
  },
  {
   "cell_type": "markdown",
   "metadata": {},
   "source": [
    "It is evident from the graph on every large spike in volume, a sharp upward/downward movement is present."
   ]
  },
  {
   "cell_type": "markdown",
   "metadata": {},
   "source": [
    "##### Trade Volume (No. of trades executed in a day Vs Close Price"
   ]
  },
  {
   "cell_type": "code",
   "execution_count": null,
   "metadata": {
    "execution": {
     "iopub.execute_input": "2021-08-25T06:35:48.218579Z",
     "iopub.status.busy": "2021-08-25T06:35:48.218208Z",
     "iopub.status.idle": "2021-08-25T06:35:48.793128Z",
     "shell.execute_reply": "2021-08-25T06:35:48.792025Z",
     "shell.execute_reply.started": "2021-08-25T06:35:48.218548Z"
    }
   },
   "outputs": [],
   "source": [
    "fig, ax1 = plt.subplots(figsize=(22,8))\n",
    "ax2 = ax1.twinx()\n",
    "sns.lineplot(x=data_sbin.index,y=data_sbin['Close Price']\n",
    "         ,color='#004488'\n",
    "         ,ax=ax1)\n",
    "sns.lineplot(x=data_sbin.index,y=data_sbin['Trade Volume'],\n",
    "             color='g',\n",
    "             ax=ax2)\n",
    "ax1.legend(['Close'],loc=1)\n",
    "ax2.legend(['Trade Volume'],loc=4)\n",
    "plt.title(\"Plot of Close Price and Volume(No. of Trades/day)\")\n",
    "plt.show()"
   ]
  },
  {
   "cell_type": "markdown",
   "metadata": {},
   "source": [
    "The plot of No of trades volume looks very similar to  the share's volume plot."
   ]
  },
  {
   "cell_type": "code",
   "execution_count": null,
   "metadata": {
    "execution": {
     "iopub.execute_input": "2021-08-25T06:35:50.018814Z",
     "iopub.status.busy": "2021-08-25T06:35:50.018449Z",
     "iopub.status.idle": "2021-08-25T06:35:50.027642Z",
     "shell.execute_reply": "2021-08-25T06:35:50.026172Z",
     "shell.execute_reply.started": "2021-08-25T06:35:50.018783Z"
    }
   },
   "outputs": [],
   "source": [
    "print(\"Correlation between Share Volume and Trade Volume: \",data_sbin['Volume'].corr(data_sbin['Trade Volume']))"
   ]
  },
  {
   "cell_type": "markdown",
   "metadata": {},
   "source": [
    "As the correlation between Share volume and trade volume is  high, so we can use only share volume for our model which is most oftenly used."
   ]
  },
  {
   "cell_type": "markdown",
   "metadata": {},
   "source": [
    "______________"
   ]
  },
  {
   "cell_type": "markdown",
   "metadata": {},
   "source": [
    "# References\n",
    "1. https://www.kaggle.com/thebrownviking20/everything-you-can-do-with-a-time-series/notebook\n",
    "2. https://www.datacamp.com/community/tutorials/moving-averages-in-pandas\n",
    "3. https://machinelearningmastery.com/gentle-introduction-autocorrelation-partial-autocorrelation/"
   ]
  }
 ],
 "metadata": {
  "kernelspec": {
   "display_name": "Python 3",
   "language": "python",
   "name": "python3"
  },
  "language_info": {
   "codemirror_mode": {
    "name": "ipython",
    "version": 3
   },
   "file_extension": ".py",
   "mimetype": "text/x-python",
   "name": "python",
   "nbconvert_exporter": "python",
   "pygments_lexer": "ipython3",
   "version": "3.7.6"
  }
 },
 "nbformat": 4,
 "nbformat_minor": 4
}
